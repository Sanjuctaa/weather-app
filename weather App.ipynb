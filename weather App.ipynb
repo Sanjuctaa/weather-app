{
 "cells": [
  {
   "cell_type": "code",
   "execution_count": 1,
   "id": "653f6739",
   "metadata": {},
   "outputs": [],
   "source": [
    "from tkinter import *\n",
    "from tkinter import messagebox\n",
    "import requests "
   ]
  },
  {
   "cell_type": "code",
   "execution_count": 13,
   "id": "439dc951",
   "metadata": {},
   "outputs": [],
   "source": [
    "\n",
    "def getweather():\n",
    "    city= city_name.get()\n",
    "    #api_key='d8338c33328f76b9fa8c1eb8c5b512ad'\n",
    "    api='https://api.openweathermap.org/data/2.5/weather?q='+city+'&appid=d8338c33328f76b9fa8c1eb8c5b512ad'\n",
    "    data=requests.get(api).json()\n",
    "    cond= data['weather'][0]['main']\n",
    "    desc= data['weather'][0]['description']\n",
    "    temp= int(data['main']['temp']-273.15)\n",
    "    min_temp= int(data['main']['temp_min']-273.15)\n",
    "    max_temp= int(data['main']['temp_max']-273.15)\n",
    "    pressure= data['main']['pressure']\n",
    "    humidity= data['main']['humidity']\n",
    "    \n",
    "    \n",
    "    \n",
    "    final_info= \"Condition:\"+cond+'\\n'+\"Description: \"+desc+'\\n'+\"Temperature: \"+str(temp)+chr(176)+\"C\"\n",
    "    final_data=\"Max-temp: \"+str(max_temp)+\"\\n\"+\"Min-temp: \"+str(min_temp)+\"\\n\"+\"Pressure: \"+str(pressure)+\"\\n\"+\"Humidity: \"+str(humidity)\n",
    "        \n",
    "    label1.config(text= final_info)\n",
    "    label2.config(text= final_data)\n",
    "\n",
    "\n",
    "win= Tk()\n",
    "win.title(\"App\")\n",
    "win.config(bg=\"#00B4DB\")\n",
    "win.geometry('500x650+200+100')\n",
    "\n",
    "\n",
    "\n",
    "# label\n",
    "name_label= Label(win, text=\"Weather App\",font=(\"Times New roman\",'30'), bg='dark blue', fg='white')\n",
    "name_label.place(y=50,width=500,height=50)\n",
    "\n",
    "\n",
    "city_name= StringVar()\n",
    "\n",
    "my_entry=Entry(win,font=('Times New roman',18),textvariable= city_name)\n",
    "my_entry.place(x=25,y=140,width=450,height=50)\n",
    "\n",
    "but=Button(win,text='Done',font=('Times New roman',18),command= getweather)\n",
    "but.place(x=200,y=210,width=100,height=40)\n",
    "\n",
    "\n",
    "frame= Frame(win,bg='white')\n",
    "frame.place(x=50,y=270,width=400,height=270 )\n",
    "\n",
    "label3=Label(frame,justify=CENTER,text=\"Weather Details\",font=('Times New roman',15), fg=\"white\", bg=\"grey\")\n",
    "label3.pack(fill=BOTH, expand=True)\n",
    "label1=Label(frame,justify=CENTER,font=('Times New roman',13))\n",
    "label1.pack(fill=BOTH, expand=True)\n",
    "label2=Label(frame,justify=CENTER,font=('Times New roman',11))\n",
    "label2.pack(fill=BOTH, expand=True)\n",
    "\n",
    "\n",
    "win.mainloop()"
   ]
  },
  {
   "cell_type": "code",
   "execution_count": null,
   "id": "d5e912bd",
   "metadata": {},
   "outputs": [],
   "source": []
  }
 ],
 "metadata": {
  "kernelspec": {
   "display_name": "Python 3 (ipykernel)",
   "language": "python",
   "name": "python3"
  },
  "language_info": {
   "codemirror_mode": {
    "name": "ipython",
    "version": 3
   },
   "file_extension": ".py",
   "mimetype": "text/x-python",
   "name": "python",
   "nbconvert_exporter": "python",
   "pygments_lexer": "ipython3",
   "version": "3.11.4"
  }
 },
 "nbformat": 4,
 "nbformat_minor": 5
}
